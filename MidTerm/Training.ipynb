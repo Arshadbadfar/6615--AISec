{
  "nbformat": 4,
  "nbformat_minor": 0,
  "metadata": {
    "colab": {
      "provenance": []
    },
    "kernelspec": {
      "name": "python3",
      "display_name": "Python 3"
    },
    "language_info": {
      "name": "python"
    }
  },
  "cells": [
    {
      "cell_type": "code",
      "source": [
        "import ember\n",
        "X_train, y_train, X_test, y_test = ember.read_vectorized_features(\"drive/MyDrive/Colab Notebooks/AISec/vMalConv/\")\n"
      ],
      "metadata": {
        "id": "dMfMt7cKkfTp"
      },
      "execution_count": null,
      "outputs": []
    },
    {
      "cell_type": "code",
      "source": [
        "\n",
        "\n",
        "# Filter out rows with label -1\n",
        "labelrows = (y_train != -1)\n",
        "X_train = X_train[labelrows]\n",
        "y_train = y_train[labelrows]\n",
        "\n"
      ],
      "metadata": {
        "id": "bp6uGzALkiPv"
      },
      "execution_count": null,
      "outputs": []
    },
    {
      "cell_type": "code",
      "source": [
        "from sklearn.model_selection import train_test_split\n",
        "\n",
        "#Stratifying\n",
        "X_train, _, y_train, _ = train_test_split(X_train, y_train, train_size=0.8, stratify=y_train, random_state=42)\n",
        "_, X_test, _, y_test = train_test_split(X_test, y_test, test_size=0.8, stratify=y_test, random_state=42)"
      ],
      "metadata": {
        "id": "truYzGCJllGD"
      },
      "execution_count": null,
      "outputs": []
    },
    {
      "cell_type": "code",
      "source": [
        "import pickle\n",
        "\n",
        "\n",
        "\n",
        "# Save training data\n",
        "with open(\"X_train.pkl\", \"wb\") as f:\n",
        "    pickle.dump(X_train, f)\n",
        "\n",
        "with open(\"y_train.pkl\", \"wb\") as f:\n",
        "    pickle.dump(y_train, f)\n",
        "\n",
        "# Save testing data\n",
        "with open(\"X_test.pkl\", \"wb\") as f:\n",
        "    pickle.dump(X_test, f)\n",
        "\n",
        "with open(\"y_test.pkl\", \"wb\") as f:\n",
        "    pickle.dump(y_test, f)\n",
        "\n",
        "print(\"Data saved successfully!\")\n"
      ],
      "metadata": {
        "id": "Me_OBR3-lqfH"
      },
      "execution_count": null,
      "outputs": []
    },
    {
      "cell_type": "markdown",
      "source": [
        "## Loading the pickled dataset\n",
        "> Already preprocced to save the loading time"
      ],
      "metadata": {
        "id": "Hq6izPG9joZA"
      }
    },
    {
      "cell_type": "code",
      "source": [
        "import pickle\n",
        "\n",
        "# Define the directory path (replace with your actual path)\n",
        "data_dir = \"/content/drive/MyDrive/Colab Notebooks/AISec/vMalConv\"  # Assuming Colab environment\n",
        "\n",
        "# Load training data\n",
        "try:\n",
        "    with open(f\"{data_dir}/X_train.pkl\", \"rb\") as f:\n",
        "        X_train = pickle.load(f)\n",
        "\n",
        "    with open(f\"{data_dir}/y_train.pkl\", \"rb\") as f:\n",
        "        y_train = pickle.load(f)\n",
        "except FileNotFoundError:\n",
        "    print(\"Training data pickle files not found. Please ensure they exist in the specified directory.\")\n",
        "\n",
        "# Load testing data\n",
        "try:\n",
        "    with open(f\"{data_dir}/X_test.pkl\", \"rb\") as f:\n",
        "        X_test = pickle.load(f)\n",
        "\n",
        "    with open(f\"{data_dir}/y_test.pkl\", \"rb\") as f:\n",
        "        y_test = pickle.load(f)\n",
        "except FileNotFoundError:\n",
        "    print(\"Testing data pickle files not found. Please ensure they exist in the specified directory.\")\n",
        "\n",
        "print(\"Data loaded successfully!\")\n"
      ],
      "metadata": {
        "id": "FHiTUgLxjSOR"
      },
      "execution_count": null,
      "outputs": []
    },
    {
      "cell_type": "markdown",
      "source": [
        "### Standardization"
      ],
      "metadata": {
        "id": "h0qDieDClJ5r"
      }
    },
    {
      "cell_type": "code",
      "source": [
        "from sklearn.preprocessing import StandardScaler\n",
        "\n",
        "mms = StandardScaler()\n",
        "range_end = X_train.shape[0]\n",
        "range_step =  1000\n",
        "\n",
        "for x in range(0, range_end, range_step):\n",
        "  mms.partial_fit(X_train[x:x+range_step])\n"
      ],
      "metadata": {
        "id": "36_ldtmekQ8_"
      },
      "execution_count": null,
      "outputs": []
    },
    {
      "cell_type": "code",
      "source": [
        "X_train = mms.transform(X_train)"
      ],
      "metadata": {
        "id": "bCEcjN_Rkrzv"
      },
      "execution_count": null,
      "outputs": []
    },
    {
      "cell_type": "code",
      "source": [
        "# Find the minimum value in the scaled data\n",
        "min_val = X_train.min()\n",
        "\n",
        "# Shift the data if the minimum value is less than 0\n",
        "if min_val < 0:\n",
        "    # We add a bit more to ensure there are no values at exactly 0, if desired\n",
        "    shift_value = np.abs(min_val) # For example, ensuring the min value is at least 1\n",
        "    X_train = X_train + shift_value\n",
        "\n"
      ],
      "metadata": {
        "id": "gXxOaIQck9J4"
      },
      "execution_count": null,
      "outputs": []
    },
    {
      "cell_type": "code",
      "source": [
        "from sklearn.preprocessing import StandardScaler\n",
        "\n",
        "mms = StandardScaler()\n",
        "range_end = X_test.shape[0]\n",
        "range_step =  1000\n",
        "\n",
        "for x in range(0, range_end, range_step):\n",
        "  mms.partial_fit(X_test[x:x+range_step])\n"
      ],
      "metadata": {
        "id": "scERFmFxk_nW"
      },
      "execution_count": null,
      "outputs": []
    },
    {
      "cell_type": "code",
      "source": [
        "X_test = mms.transform(X_test)"
      ],
      "metadata": {
        "id": "g51tnEw-lBd_"
      },
      "execution_count": null,
      "outputs": []
    },
    {
      "cell_type": "code",
      "source": [
        "# Find the minimum value in the scaled data\n",
        "min_val = X_test.min()\n",
        "\n",
        "# Shift the data if the minimum value is less than 0\n",
        "if min_val < 0:\n",
        "    # We add a bit more to ensure there are no values at exactly 0, if desired\n",
        "    shift_value = np.abs(min_val)   # For example, ensuring the min value is at least 1\n",
        "    X_test = X_test + shift_value\n",
        "\n"
      ],
      "metadata": {
        "id": "1QMCk6xllDSX"
      },
      "execution_count": null,
      "outputs": []
    },
    {
      "cell_type": "markdown",
      "source": [
        "### Tensorizing"
      ],
      "metadata": {
        "id": "6TBWn05OkE7I"
      }
    },
    {
      "cell_type": "code",
      "source": [
        "import numpy as np\n",
        "import torch.optim as optim\n",
        "from torch.utils.data import DataLoader, TensorDataset\n",
        "from sklearn.model_selection import train_test_split\n",
        "\n",
        "\n",
        "# Convert your numpy arrays to PyTorch tensors\n",
        "X_train_tensor = torch.tensor(X_train, dtype=torch.long)\n",
        "y_train_tensor = torch.tensor(y_train, dtype=torch.long)\n",
        "\n",
        "# Split the data into training and validation sets (80% training, 20% validation)\n",
        "X_train_split, X_val_split, y_train_split, y_val_split = train_test_split(\n",
        "    X_train_tensor, y_train_tensor, test_size=0.2, random_state=42\n",
        ")\n",
        "\n",
        "# Create TensorDatasets and DataLoaders for training and validation sets\n",
        "train_dataset = TensorDataset(X_train_split, y_train_split)\n",
        "val_dataset = TensorDataset(X_val_split, y_val_split)\n",
        "\n",
        "batch_size = 4000  # Adjust based on your GPU memory\n",
        "train_loader = DataLoader(train_dataset, batch_size=batch_size, shuffle=True)\n",
        "val_loader = DataLoader(val_dataset, batch_size=batch_size, shuffle=False)\n",
        "\n",
        "\n"
      ],
      "metadata": {
        "id": "SQKOz5Hej5fu"
      },
      "execution_count": null,
      "outputs": []
    },
    {
      "cell_type": "markdown",
      "source": [
        "## Model"
      ],
      "metadata": {
        "id": "-caiDZgajaXC"
      }
    },
    {
      "cell_type": "code",
      "source": [
        "import torch\n",
        "import torch.nn as nn\n",
        "import torch.nn.functional as F\n",
        "\n",
        "class MalConv(nn.Module):\n",
        "    def __init__(self, input_length=2000000, embedding_dim=8, window_size=500, output_dim=1):\n",
        "        super(MalConv, self).__init__()\n",
        "        self.embed = nn.Embedding(input_length, embedding_dim)\n",
        "        self.conv1 = nn.Conv1d(embedding_dim, 128, kernel_size=window_size, stride=window_size, padding=0)\n",
        "        self.conv2 = nn.Conv1d(embedding_dim, 128, kernel_size=window_size, stride=window_size, padding=0)\n",
        "        self.gating = nn.Sigmoid()\n",
        "        self.global_max_pool = nn.AdaptiveMaxPool1d(1)\n",
        "        self.fc1 = nn.Linear(128, 128)\n",
        "        self.fc2 = nn.Linear(128, output_dim)\n",
        "        self.sigmoid = nn.Sigmoid()\n",
        "\n",
        "    def forward(self, x):\n",
        "        x = self.embed(x)\n",
        "        x = x.transpose(1, 2)  # Convert to (batch_size, channels, length)\n",
        "        conv1 = self.conv1(x)\n",
        "        conv2 = self.conv2(x)\n",
        "        gated = conv1 * self.gating(conv2)  # Element-wise multiplication\n",
        "        global_max_pool = self.global_max_pool(gated).squeeze(2)  # Remove the last dimension\n",
        "        fc1 = F.relu(self.fc1(global_max_pool))\n",
        "        fc2 = self.fc2(fc1)\n",
        "        output = self.sigmoid(fc2)\n",
        "        return output\n",
        "\n",
        "# Example of creating and testing a MalConv model\n",
        "\n",
        "model = MalConv()\n",
        "print(model)\n",
        "\n"
      ],
      "metadata": {
        "id": "3DpTWwm_irY4"
      },
      "execution_count": null,
      "outputs": []
    },
    {
      "cell_type": "markdown",
      "source": [
        "## Training"
      ],
      "metadata": {
        "id": "OrRElN0Fje95"
      }
    },
    {
      "cell_type": "code",
      "source": [
        "\n",
        "import torch\n",
        "import torch.optim as optim\n",
        "import torch.nn.functional as F\n",
        "import os\n",
        "import matplotlib.pyplot as plt\n",
        "\n",
        "# Assuming MalConv is defined as before\n",
        "model = MalConv()\n",
        "\n",
        "# Move model to GPU if available\n",
        "device = torch.device(\"cuda\" if torch.cuda.is_available() else \"cpu\")\n",
        "model.to(device)\n",
        "\n",
        "# Loss function and optimizer\n",
        "criterion = nn.BCELoss()\n",
        "optimizer = torch.optim.Adam(model.parameters(), lr=0.001)\n",
        "\n",
        "# Directory to save model checkpoints\n",
        "save_dir = \"drive/MyDrive/Colab Notebooks/AISec/vMalConv\"\n",
        "os.makedirs(save_dir, exist_ok=True)\n",
        "\n",
        "# Training Loop with Validation\n",
        "num_epochs = 20  # Adjust as needed\n",
        "train_losses = []\n",
        "val_losses = []\n",
        "\n",
        "for epoch in range(num_epochs):\n",
        "    model.train()\n",
        "    running_loss = 0.0\n",
        "\n",
        "    for inputs, labels in train_loader:\n",
        "        inputs, labels = inputs.to(device), labels.to(device)\n",
        "\n",
        "        optimizer.zero_grad()\n",
        "\n",
        "        outputs = model(inputs)\n",
        "        loss = criterion(outputs.squeeze(), labels.float())\n",
        "        loss.backward()\n",
        "        optimizer.step()\n",
        "\n",
        "        running_loss += loss.item()\n",
        "\n",
        "    epoch_loss = running_loss / len(train_loader)\n",
        "    train_losses.append(epoch_loss)\n",
        "\n",
        "    model.eval()\n",
        "    val_loss = 0.0\n",
        "    with torch.no_grad():\n",
        "        for inputs, labels in val_loader:\n",
        "            inputs, labels = inputs.to(device), labels.to(device)\n",
        "            outputs = model(inputs)\n",
        "            loss = criterion(outputs.squeeze(), labels.float())\n",
        "            val_loss += loss.item()\n",
        "\n",
        "    epoch_val_loss = val_loss / len(val_loader)\n",
        "    val_losses.append(epoch_val_loss)\n",
        "\n",
        "    print(f'Epoch {epoch+1}, Training Loss: {epoch_loss}, Validation Loss: {epoch_val_loss}')\n",
        "\n",
        "    if (epoch + 1) % 5 == 0:\n",
        "        checkpoint_path = os.path.join(save_dir, f'model_epoch_{epoch+1}.pt')\n",
        "        torch.save({\n",
        "            'epoch': epoch + 1,\n",
        "            'model_state_dict': model.state_dict(),\n",
        "            'optimizer_state_dict': optimizer.state_dict(),\n",
        "            'loss': loss,\n",
        "        }, checkpoint_path)\n",
        "        print(f'Model checkpoint saved to {checkpoint_path}')\n",
        "\n",
        "# Plotting the training and validation loss\n",
        "plt.figure(figsize=(10, 5))\n",
        "plt.plot(train_losses, label='Training Loss')\n",
        "plt.plot(val_losses, label='Validation Loss')\n",
        "plt.xlabel('Epochs')\n",
        "plt.ylabel('Loss')\n",
        "plt.title('Training and Validation Loss')\n",
        "plt.legend()\n",
        "plt.show()\n"
      ],
      "metadata": {
        "colab": {
          "base_uri": "https://localhost:8080/",
          "height": 904
        },
        "id": "fXXW3PbLtpeC",
        "outputId": "84c53ac6-2c67-48d2-b756-b0f9d4b9719d"
      },
      "execution_count": null,
      "outputs": [
        {
          "output_type": "stream",
          "name": "stdout",
          "text": [
            "Epoch 1, Training Loss: 0.5288458958268165, Validation Loss: 0.3720565468072891\n",
            "Epoch 2, Training Loss: 0.30224362164735796, Validation Loss: 0.309660530090332\n",
            "Epoch 3, Training Loss: 0.23184595331549646, Validation Loss: 0.24522048234939575\n",
            "Epoch 4, Training Loss: 0.18159339874982833, Validation Loss: 0.2526845961809158\n",
            "Epoch 5, Training Loss: 0.14387257527559996, Validation Loss: 0.24575320184230803\n",
            "Model checkpoint saved to drive/MyDrive/Colab Notebooks/AISec/vMalConv/model_epoch_5.pt\n",
            "Epoch 6, Training Loss: 0.09429372232407332, Validation Loss: 0.2684519052505493\n",
            "Epoch 7, Training Loss: 0.057155044935643676, Validation Loss: 0.30032658874988555\n",
            "Epoch 8, Training Loss: 0.026906533213332296, Validation Loss: 0.3392070889472961\n",
            "Epoch 9, Training Loss: 0.011149972956627608, Validation Loss: 0.3902670592069626\n",
            "Epoch 10, Training Loss: 0.0045138717512600126, Validation Loss: 0.42569802701473236\n",
            "Model checkpoint saved to drive/MyDrive/Colab Notebooks/AISec/vMalConv/model_epoch_10.pt\n",
            "Epoch 11, Training Loss: 0.0022424113209126516, Validation Loss: 0.45507349669933317\n",
            "Epoch 12, Training Loss: 0.0013036431628279388, Validation Loss: 0.4838975787162781\n",
            "Epoch 13, Training Loss: 0.0008132194896461442, Validation Loss: 0.5147764623165131\n",
            "Epoch 14, Training Loss: 0.0006740104814525694, Validation Loss: 0.5334264516830445\n",
            "Epoch 15, Training Loss: 0.0004795752502104733, Validation Loss: 0.5615596830844879\n",
            "Model checkpoint saved to drive/MyDrive/Colab Notebooks/AISec/vMalConv/model_epoch_15.pt\n",
            "Epoch 16, Training Loss: 0.0003935933236789424, Validation Loss: 0.5726478159427643\n",
            "Epoch 17, Training Loss: 0.00035563856072258205, Validation Loss: 0.5930005967617035\n",
            "Epoch 18, Training Loss: 0.00030352798603416886, Validation Loss: 0.6088558614253998\n",
            "Epoch 19, Training Loss: 0.00028039254575560333, Validation Loss: 0.6279344141483307\n",
            "Epoch 20, Training Loss: 0.00021235362619336228, Validation Loss: 0.6802642047405243\n",
            "Model checkpoint saved to drive/MyDrive/Colab Notebooks/AISec/vMalConv/model_epoch_20.pt\n"
          ]
        },
        {
          "output_type": "display_data",
          "data": {
            "text/plain": [
              "<Figure size 1000x500 with 1 Axes>"
            ],
            "image/png": "[encoded data removed]"
          },
          "metadata": {}
        }
      ]
    },
    {
      "cell_type": "markdown",
      "source": [
        "# Test"
      ],
      "metadata": {
        "id": "k2g4K8KCjkm_"
      }
    },
    {
      "cell_type": "code",
      "source": [
        "from sklearn.metrics import accuracy_score, precision_score, recall_score\n",
        "\n",
        "# Convert test data to PyTorch tensors\n",
        "X_test_tensor = torch.tensor(X_test, dtype=torch.long)\n",
        "y_test_tensor = torch.tensor(y_test, dtype=torch.float32)\n",
        "\n",
        "# Create a TensorDataset and DataLoader for test data\n",
        "test_dataset = TensorDataset(X_test_tensor, y_test_tensor)\n",
        "test_loader = DataLoader(test_dataset, batch_size=batch_size, shuffle=False)\n",
        "\n",
        "# Ensure the model is in evaluation mode\n",
        "model.eval()\n",
        "device = torch.device(\"cuda\" if torch.cuda.is_available() else \"cpu\")\n",
        "# Lists to store model predictions and actual labels\n",
        "predictions = []\n",
        "labels_list = []  # Renamed to avoid confusion with the loop variable\n",
        "\n",
        "with torch.no_grad():\n",
        "    for inputs, labels_batch in test_loader:\n",
        "        inputs = inputs.to(device)  # Move inputs to the same device as model\n",
        "        outputs = model(inputs)\n",
        "        predicted = torch.round(outputs.squeeze())  # Convert probabilities to binary predictions (0 or 1)\n",
        "\n",
        "        # Store predictions and labels\n",
        "        predictions.extend(predicted.cpu().numpy())\n",
        "        labels_list.extend(labels_batch.cpu().numpy())\n",
        "\n",
        "# Compute metrics\n",
        "accuracy = accuracy_score(labels_list, predictions)\n",
        "precision = precision_score(labels_list, predictions)\n",
        "recall = recall_score(labels_list, predictions)\n",
        "\n",
        "print(f'Test Accuracy: {accuracy:.4f}')\n",
        "print(f'Precision: {precision:.4f}')\n",
        "print(f'Recall: {recall:.4f}')\n"
      ],
      "metadata": {
        "colab": {
          "base_uri": "https://localhost:8080/"
        },
        "id": "v37l4CKY2qMZ",
        "outputId": "af385f43-626b-4830-c2e3-05faa8e1e86b"
      },
      "execution_count": null,
      "outputs": [
        {
          "output_type": "stream",
          "name": "stdout",
          "text": [
            "Test Accuracy: 0.6817\n",
            "Precision: 0.8102\n",
            "Recall: 0.4747\n"
          ]
        }
      ]
    },
    {
      "cell_type": "markdown",
      "source": [
        "## Save the model"
      ],
      "metadata": {
        "id": "SmCUqECJl9Cu"
      }
    },
    {
      "cell_type": "code",
      "source": [
        "# Save the model parameters\n",
        "model_weights_path = os.path.join(save_dir, \"model_weights.pt\")\n",
        "torch.save(model.state_dict(), model_weights_path)\n",
        "print(f\"Model weights saved to {model_weights_path}\")\n",
        "\n",
        "# Save a checkpoint including model state, optimizer state, and other info\n",
        "checkpoint_path = os.path.join(save_dir, \"model_final_checkpoint.pt\")\n",
        "torch.save({\n",
        "    'epoch': num_epochs,\n",
        "    'model_state_dict': model.state_dict(),\n",
        "    'optimizer_state_dict': optimizer.state_dict(),\n",
        "    'last_loss': loss.item(),\n",
        "    # Include any other information you need\n",
        "}, checkpoint_path)\n",
        "\n",
        "print(f\"Full model checkpoint saved to {checkpoint_path}\")\n",
        "\n"
      ],
      "metadata": {
        "colab": {
          "base_uri": "https://localhost:8080/"
        },
        "id": "j3_79MkhyTGk",
        "outputId": "ef736879-89e1-4095-991d-47db6608b702"
      },
      "execution_count": null,
      "outputs": [
        {
          "output_type": "stream",
          "name": "stdout",
          "text": [
            "Model weights saved to drive/MyDrive/Colab Notebooks/AISec/vMalConv/model_weights.pt\n",
            "Full model checkpoint saved to drive/MyDrive/Colab Notebooks/AISec/vMalConv/model_final_checkpoint.pt\n"
          ]
        }
      ]
    },
    {
      "cell_type": "markdown",
      "source": [
        "## Deployment\n",
        "> Unsuccessful!"
      ],
      "metadata": {
        "id": "A1KRC5ZrnGd_"
      }
    },
    {
      "cell_type": "code",
      "source": [
        "# import boto3\n",
        "\n",
        "# # Initialize AWS credentials and region if needed\n",
        "# boto3.setup_default_session(region_name='US East (N. Virginia) us-east-1', aws_access_key_id='your-access-key', aws_secret_access_key='your-secret-access-key')\n",
        "\n",
        "# bucket_name = 'sagemaker-deploy-aisec-midterm'\n",
        "# key = 'model/'\n",
        "# file_path = os.path.join(save_dir, \"model_final_checkpoint.pt\")\n",
        "# url = 's3://{}/{}'.format(bucket_name, key)\n",
        "\n",
        "# s3_client = boto3.client('s3')\n",
        "# s3_client.upload_file(file_path, bucket_name, key + 'model_final_checkpoint.pt')\n",
        "\n",
        "# print(\"Model uploaded successfully to S3 bucket:\", url)\n",
        "\n"
      ],
      "metadata": {
        "id": "-IAXL83TnB1O"
      },
      "execution_count": null,
      "outputs": []
    },
    {
      "cell_type": "markdown",
      "source": [
        "# Result"
      ],
      "metadata": {
        "id": "MiYBhp-pnaz3"
      }
    },
    {
      "cell_type": "markdown",
      "source": [
        "During the training process, it was observed that the model started to overgeneralize after epoch 3, as indicated by an increase in validation loss. This phenomenon occurred consistently across different methods of scaling and sample sizes. However, the decision was made to retain this checkpoint as the final one since it was trained with the most data available.\n",
        "\n",
        "The overgeneralization may be attributed to the functioning of the embedding layer and the feature engineering process. It is likely influenced by a partial understanding of the Ember dataset and the nuances of the embedding layer.\n",
        "\n",
        "Despite encountering challenges during training, the test accuracy was deemed satisfactory. To achieve this result, the scale of the test dataset was adjusted by standardizing it.\n",
        "\n",
        "\n",
        "\n",
        "*In the deployment phase, significant time was invested, but unfortunately, it was ultimately unsuccessful. This could potentially be attributed to limitations imposed by the student account (AWS free tier), which restricts access to certain credentials necessary for deployment. Additionally, the lack of success may also stem from limitations in knowledge and expertise.*\n",
        "\n",
        "*The deployment failure highlights the importance of considering account restrictions and technical limitations when attempting to deploy models in real-world scenarios.*\n"
      ],
      "metadata": {
        "id": "G6k5RBZ_nlqH"
      }
    },
    {
      "cell_type": "code",
      "source": [],
      "metadata": {
        "id": "VHItfYx6poVy"
      },
      "execution_count": null,
      "outputs": []
    }
  ]
}